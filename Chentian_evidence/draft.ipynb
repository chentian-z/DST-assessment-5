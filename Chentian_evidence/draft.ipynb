{
 "cells": [
  {
   "cell_type": "markdown",
   "id": "83f1ded0",
   "metadata": {},
   "source": [
    "## 0 - preprocess and build pyspark pipeline"
   ]
  },
  {
   "cell_type": "code",
   "execution_count": 3,
   "id": "25d11543",
   "metadata": {},
   "outputs": [],
   "source": [
    "# import subprocess\n",
    "# import json\n",
    "# import pandas as pd\n",
    "# import numpy as np\n",
    "from pyspark.sql import SparkSession\n",
    "# import pyspark\n",
    "# from pyspark import SparkContext as sc\n",
    "# from pyspark import SparkConf\n",
    "\n",
    "from pyspark.ml import Pipeline\n",
    "from pyspark.ml.feature import OneHotEncoder, StringIndexer, VectorAssembler\n",
    "from pyspark.ml.classification import LogisticRegression, DecisionTreeClassifier, RandomForestClassifier, \\\n",
    "                                        GBTClassifier, MultilayerPerceptronClassifier\n",
    "from pyspark.ml.evaluation import BinaryClassificationEvaluator\n",
    "from pyspark.ml.tuning import CrossValidator, ParamGridBuilder, CrossValidatorModel\n",
    "\n",
    "import matplotlib.pyplot as plt\n"
   ]
  },
  {
   "cell_type": "code",
   "execution_count": 4,
   "id": "4aa8c804",
   "metadata": {},
   "outputs": [],
   "source": [
    "spark = SparkSession\\\n",
    "        .builder\\\n",
    "        .appName(\"PySpark ML\")\\\n",
    "        .master(\"local[*]\")\\\n",
    "        .getOrCreate()"
   ]
  },
  {
   "cell_type": "code",
   "execution_count": 5,
   "id": "a97d0ccf",
   "metadata": {},
   "outputs": [],
   "source": [
    "df = spark\\\n",
    "  .read\\\n",
    "  .option(\"header\", \"true\")\\\n",
    "  .csv(\"../data/dynamic_api_call_sequence_per_malware_100_0_306.csv\")"
   ]
  },
  {
   "cell_type": "code",
   "execution_count": null,
   "id": "313134b8",
   "metadata": {},
   "outputs": [],
   "source": [
    "df.printSchema()"
   ]
  },
  {
   "cell_type": "code",
   "execution_count": 6,
   "id": "eff77bdc",
   "metadata": {},
   "outputs": [],
   "source": [
    "numeric_features = [t[0] for t in df.dtypes if t[1] == 'int']\n",
    "df.select(numeric_features).describe().toPandas().transpose()\n",
    "numeric_data = df.select(numeric_features).toPandas()\n",
    "# drop 'hash' column\n",
    "df = df.select([col for col in df.columns if col != 'hash'])\n",
    "cols = df.columns"
   ]
  },
  {
   "cell_type": "code",
   "execution_count": 7,
   "id": "11985463",
   "metadata": {
    "scrolled": true
   },
   "outputs": [
    {
     "name": "stdout",
     "output_type": "stream",
     "text": [
      "root\n",
      " |-- t_0: string (nullable = true)\n",
      " |-- t_1: string (nullable = true)\n",
      " |-- t_2: string (nullable = true)\n",
      " |-- t_3: string (nullable = true)\n",
      " |-- t_4: string (nullable = true)\n",
      " |-- t_5: string (nullable = true)\n",
      " |-- t_6: string (nullable = true)\n",
      " |-- t_7: string (nullable = true)\n",
      " |-- t_8: string (nullable = true)\n",
      " |-- t_9: string (nullable = true)\n",
      " |-- t_10: string (nullable = true)\n",
      " |-- t_11: string (nullable = true)\n",
      " |-- t_12: string (nullable = true)\n",
      " |-- t_13: string (nullable = true)\n",
      " |-- t_14: string (nullable = true)\n",
      " |-- t_15: string (nullable = true)\n",
      " |-- t_16: string (nullable = true)\n",
      " |-- t_17: string (nullable = true)\n",
      " |-- t_18: string (nullable = true)\n",
      " |-- t_19: string (nullable = true)\n",
      " |-- t_20: string (nullable = true)\n",
      " |-- t_21: string (nullable = true)\n",
      " |-- t_22: string (nullable = true)\n",
      " |-- t_23: string (nullable = true)\n",
      " |-- t_24: string (nullable = true)\n",
      " |-- t_25: string (nullable = true)\n",
      " |-- t_26: string (nullable = true)\n",
      " |-- t_27: string (nullable = true)\n",
      " |-- t_28: string (nullable = true)\n",
      " |-- t_29: string (nullable = true)\n",
      " |-- t_30: string (nullable = true)\n",
      " |-- t_31: string (nullable = true)\n",
      " |-- t_32: string (nullable = true)\n",
      " |-- t_33: string (nullable = true)\n",
      " |-- t_34: string (nullable = true)\n",
      " |-- t_35: string (nullable = true)\n",
      " |-- t_36: string (nullable = true)\n",
      " |-- t_37: string (nullable = true)\n",
      " |-- t_38: string (nullable = true)\n",
      " |-- t_39: string (nullable = true)\n",
      " |-- t_40: string (nullable = true)\n",
      " |-- t_41: string (nullable = true)\n",
      " |-- t_42: string (nullable = true)\n",
      " |-- t_43: string (nullable = true)\n",
      " |-- t_44: string (nullable = true)\n",
      " |-- t_45: string (nullable = true)\n",
      " |-- t_46: string (nullable = true)\n",
      " |-- t_47: string (nullable = true)\n",
      " |-- t_48: string (nullable = true)\n",
      " |-- t_49: string (nullable = true)\n",
      " |-- t_50: string (nullable = true)\n",
      " |-- t_51: string (nullable = true)\n",
      " |-- t_52: string (nullable = true)\n",
      " |-- t_53: string (nullable = true)\n",
      " |-- t_54: string (nullable = true)\n",
      " |-- t_55: string (nullable = true)\n",
      " |-- t_56: string (nullable = true)\n",
      " |-- t_57: string (nullable = true)\n",
      " |-- t_58: string (nullable = true)\n",
      " |-- t_59: string (nullable = true)\n",
      " |-- t_60: string (nullable = true)\n",
      " |-- t_61: string (nullable = true)\n",
      " |-- t_62: string (nullable = true)\n",
      " |-- t_63: string (nullable = true)\n",
      " |-- t_64: string (nullable = true)\n",
      " |-- t_65: string (nullable = true)\n",
      " |-- t_66: string (nullable = true)\n",
      " |-- t_67: string (nullable = true)\n",
      " |-- t_68: string (nullable = true)\n",
      " |-- t_69: string (nullable = true)\n",
      " |-- t_70: string (nullable = true)\n",
      " |-- t_71: string (nullable = true)\n",
      " |-- t_72: string (nullable = true)\n",
      " |-- t_73: string (nullable = true)\n",
      " |-- t_74: string (nullable = true)\n",
      " |-- t_75: string (nullable = true)\n",
      " |-- t_76: string (nullable = true)\n",
      " |-- t_77: string (nullable = true)\n",
      " |-- t_78: string (nullable = true)\n",
      " |-- t_79: string (nullable = true)\n",
      " |-- t_80: string (nullable = true)\n",
      " |-- t_81: string (nullable = true)\n",
      " |-- t_82: string (nullable = true)\n",
      " |-- t_83: string (nullable = true)\n",
      " |-- t_84: string (nullable = true)\n",
      " |-- t_85: string (nullable = true)\n",
      " |-- t_86: string (nullable = true)\n",
      " |-- t_87: string (nullable = true)\n",
      " |-- t_88: string (nullable = true)\n",
      " |-- t_89: string (nullable = true)\n",
      " |-- t_90: string (nullable = true)\n",
      " |-- t_91: string (nullable = true)\n",
      " |-- t_92: string (nullable = true)\n",
      " |-- t_93: string (nullable = true)\n",
      " |-- t_94: string (nullable = true)\n",
      " |-- t_95: string (nullable = true)\n",
      " |-- t_96: string (nullable = true)\n",
      " |-- t_97: string (nullable = true)\n",
      " |-- t_98: string (nullable = true)\n",
      " |-- t_99: string (nullable = true)\n",
      " |-- malware: string (nullable = true)\n",
      "\n"
     ]
    }
   ],
   "source": [
    "df.printSchema()"
   ]
  },
  {
   "cell_type": "code",
   "execution_count": 8,
   "id": "9d49f8ac",
   "metadata": {},
   "outputs": [],
   "source": [
    "categoricalColumns = df.columns[:-1]\n",
    "stages = []\n",
    "  \n",
    "for col in categoricalColumns:\n",
    "    stringIndexer = StringIndexer(inputCol = col, outputCol = col + 'Index')\n",
    "    encoder = OneHotEncoder(inputCols=[stringIndexer.getOutputCol()], outputCols=[col + \"classVec\"])    \n",
    "    stages += [stringIndexer, encoder]\n",
    "\n",
    "label_stringIdx = StringIndexer(inputCol = 'malware', outputCol = 'label')\n",
    "stages += [label_stringIdx]\n",
    "\n",
    "numericCols=[]\n",
    "# turn all features into a sphare vector\n",
    "assemblerInputs = [c + \"classVec\" for c in categoricalColumns]\n",
    "assembler = VectorAssembler(inputCols=assemblerInputs, outputCol=\"features\")\n",
    "stages += [assembler]"
   ]
  },
  {
   "cell_type": "code",
   "execution_count": 12,
   "id": "c98c44d0",
   "metadata": {
    "scrolled": true
   },
   "outputs": [
    {
     "name": "stdout",
     "output_type": "stream",
     "text": [
      "root\n",
      " |-- label: double (nullable = false)\n",
      " |-- features: vector (nullable = true)\n",
      " |-- t_0: string (nullable = true)\n",
      " |-- t_1: string (nullable = true)\n",
      " |-- t_2: string (nullable = true)\n",
      " |-- t_3: string (nullable = true)\n",
      " |-- t_4: string (nullable = true)\n",
      " |-- t_5: string (nullable = true)\n",
      " |-- t_6: string (nullable = true)\n",
      " |-- t_7: string (nullable = true)\n",
      " |-- t_8: string (nullable = true)\n",
      " |-- t_9: string (nullable = true)\n",
      " |-- t_10: string (nullable = true)\n",
      " |-- t_11: string (nullable = true)\n",
      " |-- t_12: string (nullable = true)\n",
      " |-- t_13: string (nullable = true)\n",
      " |-- t_14: string (nullable = true)\n",
      " |-- t_15: string (nullable = true)\n",
      " |-- t_16: string (nullable = true)\n",
      " |-- t_17: string (nullable = true)\n",
      " |-- t_18: string (nullable = true)\n",
      " |-- t_19: string (nullable = true)\n",
      " |-- t_20: string (nullable = true)\n",
      " |-- t_21: string (nullable = true)\n",
      " |-- t_22: string (nullable = true)\n",
      " |-- t_23: string (nullable = true)\n",
      " |-- t_24: string (nullable = true)\n",
      " |-- t_25: string (nullable = true)\n",
      " |-- t_26: string (nullable = true)\n",
      " |-- t_27: string (nullable = true)\n",
      " |-- t_28: string (nullable = true)\n",
      " |-- t_29: string (nullable = true)\n",
      " |-- t_30: string (nullable = true)\n",
      " |-- t_31: string (nullable = true)\n",
      " |-- t_32: string (nullable = true)\n",
      " |-- t_33: string (nullable = true)\n",
      " |-- t_34: string (nullable = true)\n",
      " |-- t_35: string (nullable = true)\n",
      " |-- t_36: string (nullable = true)\n",
      " |-- t_37: string (nullable = true)\n",
      " |-- t_38: string (nullable = true)\n",
      " |-- t_39: string (nullable = true)\n",
      " |-- t_40: string (nullable = true)\n",
      " |-- t_41: string (nullable = true)\n",
      " |-- t_42: string (nullable = true)\n",
      " |-- t_43: string (nullable = true)\n",
      " |-- t_44: string (nullable = true)\n",
      " |-- t_45: string (nullable = true)\n",
      " |-- t_46: string (nullable = true)\n",
      " |-- t_47: string (nullable = true)\n",
      " |-- t_48: string (nullable = true)\n",
      " |-- t_49: string (nullable = true)\n",
      " |-- t_50: string (nullable = true)\n",
      " |-- t_51: string (nullable = true)\n",
      " |-- t_52: string (nullable = true)\n",
      " |-- t_53: string (nullable = true)\n",
      " |-- t_54: string (nullable = true)\n",
      " |-- t_55: string (nullable = true)\n",
      " |-- t_56: string (nullable = true)\n",
      " |-- t_57: string (nullable = true)\n",
      " |-- t_58: string (nullable = true)\n",
      " |-- t_59: string (nullable = true)\n",
      " |-- t_60: string (nullable = true)\n",
      " |-- t_61: string (nullable = true)\n",
      " |-- t_62: string (nullable = true)\n",
      " |-- t_63: string (nullable = true)\n",
      " |-- t_64: string (nullable = true)\n",
      " |-- t_65: string (nullable = true)\n",
      " |-- t_66: string (nullable = true)\n",
      " |-- t_67: string (nullable = true)\n",
      " |-- t_68: string (nullable = true)\n",
      " |-- t_69: string (nullable = true)\n",
      " |-- t_70: string (nullable = true)\n",
      " |-- t_71: string (nullable = true)\n",
      " |-- t_72: string (nullable = true)\n",
      " |-- t_73: string (nullable = true)\n",
      " |-- t_74: string (nullable = true)\n",
      " |-- t_75: string (nullable = true)\n",
      " |-- t_76: string (nullable = true)\n",
      " |-- t_77: string (nullable = true)\n",
      " |-- t_78: string (nullable = true)\n",
      " |-- t_79: string (nullable = true)\n",
      " |-- t_80: string (nullable = true)\n",
      " |-- t_81: string (nullable = true)\n",
      " |-- t_82: string (nullable = true)\n",
      " |-- t_83: string (nullable = true)\n",
      " |-- t_84: string (nullable = true)\n",
      " |-- t_85: string (nullable = true)\n",
      " |-- t_86: string (nullable = true)\n",
      " |-- t_87: string (nullable = true)\n",
      " |-- t_88: string (nullable = true)\n",
      " |-- t_89: string (nullable = true)\n",
      " |-- t_90: string (nullable = true)\n",
      " |-- t_91: string (nullable = true)\n",
      " |-- t_92: string (nullable = true)\n",
      " |-- t_93: string (nullable = true)\n",
      " |-- t_94: string (nullable = true)\n",
      " |-- t_95: string (nullable = true)\n",
      " |-- t_96: string (nullable = true)\n",
      " |-- t_97: string (nullable = true)\n",
      " |-- t_98: string (nullable = true)\n",
      " |-- t_99: string (nullable = true)\n",
      " |-- malware: string (nullable = true)\n",
      "\n"
     ]
    }
   ],
   "source": [
    "pipeline = Pipeline(stages = stages)\n",
    "pipelineModel = pipeline.fit(df)\n",
    "df = pipelineModel.transform(df)\n",
    "\n",
    "# set columns\n",
    "SelCol =  ['label', 'features'] + cols\n",
    "\n",
    "df = df.select(SelCol)\n",
    "df.printSchema()\n",
    " \n",
    "#split train & test data\n",
    "train, test = df.randomSplit([0.8, 0.2], seed = 666)"
   ]
  },
  {
   "cell_type": "code",
   "execution_count": 13,
   "id": "8603a0e4",
   "metadata": {
    "scrolled": true
   },
   "outputs": [
    {
     "name": "stderr",
     "output_type": "stream",
     "text": [
      "D:\\Users\\Cryst\\AppData\\Local\\Programs\\Python\\Python39\\lib\\site-packages\\pyspark\\sql\\pandas\\conversion.py:202: PerformanceWarning: DataFrame is highly fragmented.  This is usually the result of calling `frame.insert` many times, which has poor performance.  Consider joining all columns at once using pd.concat(axis=1) instead.  To get a de-fragmented frame, use `newframe = frame.copy()`\n",
      "  df[column_name] = series\n"
     ]
    },
    {
     "data": {
      "text/html": [
       "<div>\n",
       "<style scoped>\n",
       "    .dataframe tbody tr th:only-of-type {\n",
       "        vertical-align: middle;\n",
       "    }\n",
       "\n",
       "    .dataframe tbody tr th {\n",
       "        vertical-align: top;\n",
       "    }\n",
       "\n",
       "    .dataframe thead th {\n",
       "        text-align: right;\n",
       "    }\n",
       "</style>\n",
       "<table border=\"1\" class=\"dataframe\">\n",
       "  <thead>\n",
       "    <tr style=\"text-align: right;\">\n",
       "      <th></th>\n",
       "      <th>label</th>\n",
       "      <th>features</th>\n",
       "      <th>t_0</th>\n",
       "      <th>t_1</th>\n",
       "      <th>t_2</th>\n",
       "      <th>t_3</th>\n",
       "      <th>t_4</th>\n",
       "      <th>t_5</th>\n",
       "      <th>t_6</th>\n",
       "      <th>t_7</th>\n",
       "      <th>...</th>\n",
       "      <th>t_91</th>\n",
       "      <th>t_92</th>\n",
       "      <th>t_93</th>\n",
       "      <th>t_94</th>\n",
       "      <th>t_95</th>\n",
       "      <th>t_96</th>\n",
       "      <th>t_97</th>\n",
       "      <th>t_98</th>\n",
       "      <th>t_99</th>\n",
       "      <th>malware</th>\n",
       "    </tr>\n",
       "  </thead>\n",
       "  <tbody>\n",
       "    <tr>\n",
       "      <th>0</th>\n",
       "      <td>0.0</td>\n",
       "      <td>(0.0, 0.0, 1.0, 0.0, 0.0, 0.0, 0.0, 0.0, 0.0, ...</td>\n",
       "      <td>112</td>\n",
       "      <td>274</td>\n",
       "      <td>158</td>\n",
       "      <td>215</td>\n",
       "      <td>274</td>\n",
       "      <td>158</td>\n",
       "      <td>215</td>\n",
       "      <td>298</td>\n",
       "      <td>...</td>\n",
       "      <td>71</td>\n",
       "      <td>297</td>\n",
       "      <td>135</td>\n",
       "      <td>171</td>\n",
       "      <td>215</td>\n",
       "      <td>35</td>\n",
       "      <td>208</td>\n",
       "      <td>56</td>\n",
       "      <td>71</td>\n",
       "      <td>1</td>\n",
       "    </tr>\n",
       "    <tr>\n",
       "      <th>1</th>\n",
       "      <td>0.0</td>\n",
       "      <td>(1.0, 0.0, 0.0, 0.0, 0.0, 0.0, 0.0, 0.0, 0.0, ...</td>\n",
       "      <td>82</td>\n",
       "      <td>208</td>\n",
       "      <td>187</td>\n",
       "      <td>208</td>\n",
       "      <td>172</td>\n",
       "      <td>117</td>\n",
       "      <td>172</td>\n",
       "      <td>117</td>\n",
       "      <td>...</td>\n",
       "      <td>81</td>\n",
       "      <td>240</td>\n",
       "      <td>117</td>\n",
       "      <td>71</td>\n",
       "      <td>297</td>\n",
       "      <td>135</td>\n",
       "      <td>171</td>\n",
       "      <td>215</td>\n",
       "      <td>35</td>\n",
       "      <td>1</td>\n",
       "    </tr>\n",
       "    <tr>\n",
       "      <th>2</th>\n",
       "      <td>0.0</td>\n",
       "      <td>(0.0, 0.0, 0.0, 0.0, 0.0, 0.0, 0.0, 0.0, 0.0, ...</td>\n",
       "      <td>16</td>\n",
       "      <td>110</td>\n",
       "      <td>240</td>\n",
       "      <td>117</td>\n",
       "      <td>240</td>\n",
       "      <td>117</td>\n",
       "      <td>240</td>\n",
       "      <td>117</td>\n",
       "      <td>...</td>\n",
       "      <td>65</td>\n",
       "      <td>112</td>\n",
       "      <td>123</td>\n",
       "      <td>65</td>\n",
       "      <td>112</td>\n",
       "      <td>123</td>\n",
       "      <td>65</td>\n",
       "      <td>113</td>\n",
       "      <td>112</td>\n",
       "      <td>1</td>\n",
       "    </tr>\n",
       "    <tr>\n",
       "      <th>3</th>\n",
       "      <td>0.0</td>\n",
       "      <td>(1.0, 0.0, 0.0, 0.0, 0.0, 0.0, 0.0, 0.0, 0.0, ...</td>\n",
       "      <td>82</td>\n",
       "      <td>208</td>\n",
       "      <td>187</td>\n",
       "      <td>208</td>\n",
       "      <td>172</td>\n",
       "      <td>117</td>\n",
       "      <td>172</td>\n",
       "      <td>117</td>\n",
       "      <td>...</td>\n",
       "      <td>208</td>\n",
       "      <td>302</td>\n",
       "      <td>208</td>\n",
       "      <td>302</td>\n",
       "      <td>187</td>\n",
       "      <td>208</td>\n",
       "      <td>302</td>\n",
       "      <td>228</td>\n",
       "      <td>302</td>\n",
       "      <td>1</td>\n",
       "    </tr>\n",
       "    <tr>\n",
       "      <th>4</th>\n",
       "      <td>0.0</td>\n",
       "      <td>(1.0, 0.0, 0.0, 0.0, 0.0, 0.0, 0.0, 0.0, 0.0, ...</td>\n",
       "      <td>82</td>\n",
       "      <td>240</td>\n",
       "      <td>117</td>\n",
       "      <td>240</td>\n",
       "      <td>117</td>\n",
       "      <td>240</td>\n",
       "      <td>117</td>\n",
       "      <td>240</td>\n",
       "      <td>...</td>\n",
       "      <td>209</td>\n",
       "      <td>260</td>\n",
       "      <td>40</td>\n",
       "      <td>209</td>\n",
       "      <td>260</td>\n",
       "      <td>141</td>\n",
       "      <td>260</td>\n",
       "      <td>141</td>\n",
       "      <td>260</td>\n",
       "      <td>1</td>\n",
       "    </tr>\n",
       "    <tr>\n",
       "      <th>...</th>\n",
       "      <td>...</td>\n",
       "      <td>...</td>\n",
       "      <td>...</td>\n",
       "      <td>...</td>\n",
       "      <td>...</td>\n",
       "      <td>...</td>\n",
       "      <td>...</td>\n",
       "      <td>...</td>\n",
       "      <td>...</td>\n",
       "      <td>...</td>\n",
       "      <td>...</td>\n",
       "      <td>...</td>\n",
       "      <td>...</td>\n",
       "      <td>...</td>\n",
       "      <td>...</td>\n",
       "      <td>...</td>\n",
       "      <td>...</td>\n",
       "      <td>...</td>\n",
       "      <td>...</td>\n",
       "      <td>...</td>\n",
       "      <td>...</td>\n",
       "    </tr>\n",
       "    <tr>\n",
       "      <th>43871</th>\n",
       "      <td>0.0</td>\n",
       "      <td>(1.0, 0.0, 0.0, 0.0, 0.0, 0.0, 0.0, 0.0, 0.0, ...</td>\n",
       "      <td>82</td>\n",
       "      <td>240</td>\n",
       "      <td>117</td>\n",
       "      <td>240</td>\n",
       "      <td>117</td>\n",
       "      <td>240</td>\n",
       "      <td>117</td>\n",
       "      <td>240</td>\n",
       "      <td>...</td>\n",
       "      <td>141</td>\n",
       "      <td>260</td>\n",
       "      <td>141</td>\n",
       "      <td>260</td>\n",
       "      <td>141</td>\n",
       "      <td>260</td>\n",
       "      <td>141</td>\n",
       "      <td>260</td>\n",
       "      <td>141</td>\n",
       "      <td>1</td>\n",
       "    </tr>\n",
       "    <tr>\n",
       "      <th>43872</th>\n",
       "      <td>0.0</td>\n",
       "      <td>(1.0, 0.0, 0.0, 0.0, 0.0, 0.0, 0.0, 0.0, 0.0, ...</td>\n",
       "      <td>82</td>\n",
       "      <td>240</td>\n",
       "      <td>117</td>\n",
       "      <td>240</td>\n",
       "      <td>117</td>\n",
       "      <td>240</td>\n",
       "      <td>117</td>\n",
       "      <td>240</td>\n",
       "      <td>...</td>\n",
       "      <td>159</td>\n",
       "      <td>224</td>\n",
       "      <td>82</td>\n",
       "      <td>159</td>\n",
       "      <td>224</td>\n",
       "      <td>82</td>\n",
       "      <td>159</td>\n",
       "      <td>224</td>\n",
       "      <td>82</td>\n",
       "      <td>1</td>\n",
       "    </tr>\n",
       "    <tr>\n",
       "      <th>43873</th>\n",
       "      <td>0.0</td>\n",
       "      <td>(1.0, 0.0, 0.0, 0.0, 0.0, 0.0, 0.0, 0.0, 0.0, ...</td>\n",
       "      <td>82</td>\n",
       "      <td>240</td>\n",
       "      <td>117</td>\n",
       "      <td>240</td>\n",
       "      <td>117</td>\n",
       "      <td>240</td>\n",
       "      <td>117</td>\n",
       "      <td>240</td>\n",
       "      <td>...</td>\n",
       "      <td>260</td>\n",
       "      <td>141</td>\n",
       "      <td>260</td>\n",
       "      <td>141</td>\n",
       "      <td>260</td>\n",
       "      <td>141</td>\n",
       "      <td>260</td>\n",
       "      <td>141</td>\n",
       "      <td>260</td>\n",
       "      <td>1</td>\n",
       "    </tr>\n",
       "    <tr>\n",
       "      <th>43874</th>\n",
       "      <td>0.0</td>\n",
       "      <td>(1.0, 0.0, 0.0, 0.0, 0.0, 0.0, 0.0, 0.0, 0.0, ...</td>\n",
       "      <td>82</td>\n",
       "      <td>240</td>\n",
       "      <td>117</td>\n",
       "      <td>240</td>\n",
       "      <td>117</td>\n",
       "      <td>240</td>\n",
       "      <td>117</td>\n",
       "      <td>240</td>\n",
       "      <td>...</td>\n",
       "      <td>141</td>\n",
       "      <td>260</td>\n",
       "      <td>141</td>\n",
       "      <td>260</td>\n",
       "      <td>141</td>\n",
       "      <td>260</td>\n",
       "      <td>141</td>\n",
       "      <td>260</td>\n",
       "      <td>141</td>\n",
       "      <td>1</td>\n",
       "    </tr>\n",
       "    <tr>\n",
       "      <th>43875</th>\n",
       "      <td>0.0</td>\n",
       "      <td>(0.0, 0.0, 1.0, 0.0, 0.0, 0.0, 0.0, 0.0, 0.0, ...</td>\n",
       "      <td>112</td>\n",
       "      <td>274</td>\n",
       "      <td>158</td>\n",
       "      <td>215</td>\n",
       "      <td>274</td>\n",
       "      <td>158</td>\n",
       "      <td>215</td>\n",
       "      <td>298</td>\n",
       "      <td>...</td>\n",
       "      <td>71</td>\n",
       "      <td>297</td>\n",
       "      <td>135</td>\n",
       "      <td>171</td>\n",
       "      <td>215</td>\n",
       "      <td>35</td>\n",
       "      <td>208</td>\n",
       "      <td>56</td>\n",
       "      <td>71</td>\n",
       "      <td>1</td>\n",
       "    </tr>\n",
       "  </tbody>\n",
       "</table>\n",
       "<p>43876 rows × 103 columns</p>\n",
       "</div>"
      ],
      "text/plain": [
       "       label                                           features  t_0  t_1  \\\n",
       "0        0.0  (0.0, 0.0, 1.0, 0.0, 0.0, 0.0, 0.0, 0.0, 0.0, ...  112  274   \n",
       "1        0.0  (1.0, 0.0, 0.0, 0.0, 0.0, 0.0, 0.0, 0.0, 0.0, ...   82  208   \n",
       "2        0.0  (0.0, 0.0, 0.0, 0.0, 0.0, 0.0, 0.0, 0.0, 0.0, ...   16  110   \n",
       "3        0.0  (1.0, 0.0, 0.0, 0.0, 0.0, 0.0, 0.0, 0.0, 0.0, ...   82  208   \n",
       "4        0.0  (1.0, 0.0, 0.0, 0.0, 0.0, 0.0, 0.0, 0.0, 0.0, ...   82  240   \n",
       "...      ...                                                ...  ...  ...   \n",
       "43871    0.0  (1.0, 0.0, 0.0, 0.0, 0.0, 0.0, 0.0, 0.0, 0.0, ...   82  240   \n",
       "43872    0.0  (1.0, 0.0, 0.0, 0.0, 0.0, 0.0, 0.0, 0.0, 0.0, ...   82  240   \n",
       "43873    0.0  (1.0, 0.0, 0.0, 0.0, 0.0, 0.0, 0.0, 0.0, 0.0, ...   82  240   \n",
       "43874    0.0  (1.0, 0.0, 0.0, 0.0, 0.0, 0.0, 0.0, 0.0, 0.0, ...   82  240   \n",
       "43875    0.0  (0.0, 0.0, 1.0, 0.0, 0.0, 0.0, 0.0, 0.0, 0.0, ...  112  274   \n",
       "\n",
       "       t_2  t_3  t_4  t_5  t_6  t_7  ... t_91 t_92 t_93 t_94 t_95 t_96 t_97  \\\n",
       "0      158  215  274  158  215  298  ...   71  297  135  171  215   35  208   \n",
       "1      187  208  172  117  172  117  ...   81  240  117   71  297  135  171   \n",
       "2      240  117  240  117  240  117  ...   65  112  123   65  112  123   65   \n",
       "3      187  208  172  117  172  117  ...  208  302  208  302  187  208  302   \n",
       "4      117  240  117  240  117  240  ...  209  260   40  209  260  141  260   \n",
       "...    ...  ...  ...  ...  ...  ...  ...  ...  ...  ...  ...  ...  ...  ...   \n",
       "43871  117  240  117  240  117  240  ...  141  260  141  260  141  260  141   \n",
       "43872  117  240  117  240  117  240  ...  159  224   82  159  224   82  159   \n",
       "43873  117  240  117  240  117  240  ...  260  141  260  141  260  141  260   \n",
       "43874  117  240  117  240  117  240  ...  141  260  141  260  141  260  141   \n",
       "43875  158  215  274  158  215  298  ...   71  297  135  171  215   35  208   \n",
       "\n",
       "      t_98 t_99 malware  \n",
       "0       56   71       1  \n",
       "1      215   35       1  \n",
       "2      113  112       1  \n",
       "3      228  302       1  \n",
       "4      141  260       1  \n",
       "...    ...  ...     ...  \n",
       "43871  260  141       1  \n",
       "43872  224   82       1  \n",
       "43873  141  260       1  \n",
       "43874  260  141       1  \n",
       "43875   56   71       1  \n",
       "\n",
       "[43876 rows x 103 columns]"
      ]
     },
     "execution_count": 13,
     "metadata": {},
     "output_type": "execute_result"
    }
   ],
   "source": [
    "df.toPandas()"
   ]
  },
  {
   "cell_type": "code",
   "execution_count": 27,
   "id": "11ccba79",
   "metadata": {},
   "outputs": [],
   "source": [
    "df_selected = df.select(df[\"features\"],df[\"label\"])"
   ]
  },
  {
   "cell_type": "code",
   "execution_count": 14,
   "id": "6a6b7352",
   "metadata": {
    "scrolled": false
   },
   "outputs": [
    {
     "name": "stdout",
     "output_type": "stream",
     "text": [
      "+--------------------+-----+\n",
      "|            features|label|\n",
      "+--------------------+-----+\n",
      "|(15556,[2,79,161,...|  0.0|\n",
      "|(15556,[0,81,163,...|  0.0|\n",
      "|(15556,[9,83,162,...|  0.0|\n",
      "|(15556,[0,81,163,...|  0.0|\n",
      "|(15556,[0,78,160,...|  0.0|\n",
      "|(15556,[14,81,160...|  0.0|\n",
      "|(15556,[1,79,161,...|  0.0|\n",
      "|(15556,[0,78,160,...|  0.0|\n",
      "|(15556,[0,78,160,...|  0.0|\n",
      "|(15556,[0,81,163,...|  0.0|\n",
      "|(15556,[7,80,167,...|  0.0|\n",
      "|(15556,[0,78,160,...|  0.0|\n",
      "|(15556,[0,82,160,...|  0.0|\n",
      "|(15556,[0,78,160,...|  0.0|\n",
      "|(15556,[0,78,160,...|  0.0|\n",
      "|(15556,[3,80,162,...|  0.0|\n",
      "|(15556,[4,83,164,...|  0.0|\n",
      "|(15556,[2,79,161,...|  0.0|\n",
      "|(15556,[0,78,160,...|  0.0|\n",
      "|(15556,[0,78,160,...|  0.0|\n",
      "+--------------------+-----+\n",
      "only showing top 20 rows\n",
      "\n"
     ]
    }
   ],
   "source": [
    "df_selected.show()"
   ]
  },
  {
   "cell_type": "markdown",
   "id": "513fefb6",
   "metadata": {},
   "source": [
    "## 1 - Simple models "
   ]
  },
  {
   "cell_type": "code",
   "execution_count": 15,
   "id": "b2ef1a16",
   "metadata": {},
   "outputs": [
    {
     "name": "stdout",
     "output_type": "stream",
     "text": [
      "+-----+--------------------+----------+--------------------+\n",
      "|label|       rawPrediction|prediction|         probability|\n",
      "+-----+--------------------+----------+--------------------+\n",
      "|  0.0|[5.02211466877021...|       0.0|[0.99345257620839...|\n",
      "|  0.0|[4.97244671447410...|       0.0|[0.99312146110542...|\n",
      "|  0.0|[5.25378233173205...|       0.0|[0.99479947877444...|\n",
      "|  0.0|[5.25378233173205...|       0.0|[0.99479947877444...|\n",
      "|  0.0|[4.99399151117902...|       0.0|[0.99326708567291...|\n",
      "|  0.0|[5.10984432458872...|       0.0|[0.99399920427338...|\n",
      "|  0.0|[5.10984432458872...|       0.0|[0.99399920427338...|\n",
      "|  0.0|[5.10984432458872...|       0.0|[0.99399920427338...|\n",
      "|  0.0|[5.10984432458872...|       0.0|[0.99399920427338...|\n",
      "|  0.0|[5.10984432458872...|       0.0|[0.99399920427338...|\n",
      "+-----+--------------------+----------+--------------------+\n",
      "only showing top 10 rows\n",
      "\n"
     ]
    }
   ],
   "source": [
    "## 1.  Logistic Regression Model ##\n",
    "\n",
    "LR = LogisticRegression(featuresCol = 'features', labelCol = 'label', maxIter=10)\n",
    "lrModel = LR.fit(train)\n",
    "predictions_LR = lrModel.transform(test)\n",
    "predictions_LR.select('label', 'rawPrediction', 'prediction', 'probability').show(10)\n"
   ]
  },
  {
   "cell_type": "code",
   "execution_count": 16,
   "id": "a615e69b",
   "metadata": {},
   "outputs": [
    {
     "name": "stdout",
     "output_type": "stream",
     "text": [
      "+-----+---------------+----------+--------------------+\n",
      "|label|  rawPrediction|prediction|         probability|\n",
      "+-----+---------------+----------+--------------------+\n",
      "|  0.0|[33922.0,288.0]|       0.0|[0.99158140894475...|\n",
      "|  0.0|[33922.0,288.0]|       0.0|[0.99158140894475...|\n",
      "|  0.0|[33922.0,288.0]|       0.0|[0.99158140894475...|\n",
      "|  0.0|[33922.0,288.0]|       0.0|[0.99158140894475...|\n",
      "|  0.0|[33922.0,288.0]|       0.0|[0.99158140894475...|\n",
      "|  0.0|[33922.0,288.0]|       0.0|[0.99158140894475...|\n",
      "|  0.0|[33922.0,288.0]|       0.0|[0.99158140894475...|\n",
      "|  0.0|[33922.0,288.0]|       0.0|[0.99158140894475...|\n",
      "|  0.0|[33922.0,288.0]|       0.0|[0.99158140894475...|\n",
      "|  0.0|[33922.0,288.0]|       0.0|[0.99158140894475...|\n",
      "+-----+---------------+----------+--------------------+\n",
      "only showing top 10 rows\n",
      "\n"
     ]
    }
   ],
   "source": [
    "## 2.  Decision Tree Classifier ##\n",
    "\n",
    "DT = DecisionTreeClassifier(featuresCol = 'features', labelCol = 'label', maxDepth = 10)\n",
    "dtModel = DT.fit(train)\n",
    "predictions_DT = dtModel.transform(test)\n",
    "predictions_DT.select('label', 'rawPrediction', 'prediction', 'probability').show(10)"
   ]
  },
  {
   "cell_type": "code",
   "execution_count": 17,
   "id": "51bf400d",
   "metadata": {},
   "outputs": [
    {
     "name": "stdout",
     "output_type": "stream",
     "text": [
      "+-----+--------------------+----------+--------------------+\n",
      "|label|       rawPrediction|prediction|         probability|\n",
      "+-----+--------------------+----------+--------------------+\n",
      "|  0.0|[19.6470154298371...|       0.0|[0.98235077149185...|\n",
      "|  0.0|[19.6470154298371...|       0.0|[0.98235077149185...|\n",
      "|  0.0|[19.6470154298371...|       0.0|[0.98235077149185...|\n",
      "|  0.0|[19.6470154298371...|       0.0|[0.98235077149185...|\n",
      "|  0.0|[19.6470154298371...|       0.0|[0.98235077149185...|\n",
      "|  0.0|[19.6470154298371...|       0.0|[0.98235077149185...|\n",
      "|  0.0|[19.6470154298371...|       0.0|[0.98235077149185...|\n",
      "|  0.0|[19.6470154298371...|       0.0|[0.98235077149185...|\n",
      "|  0.0|[19.6470154298371...|       0.0|[0.98235077149185...|\n",
      "|  0.0|[19.6470154298371...|       0.0|[0.98235077149185...|\n",
      "+-----+--------------------+----------+--------------------+\n",
      "only showing top 10 rows\n",
      "\n"
     ]
    }
   ],
   "source": [
    "## 3.   Random Forest Classifier ##\n",
    "\n",
    "RF = RandomForestClassifier(featuresCol = 'features', labelCol = 'label')\n",
    "rfModel = RF.fit(train)\n",
    "predictions_RF = rfModel.transform(test)\n",
    "predictions_RF.select( 'label', 'rawPrediction', 'prediction', 'probability').show(10)\n",
    " "
   ]
  },
  {
   "cell_type": "code",
   "execution_count": 18,
   "id": "c55100e9",
   "metadata": {},
   "outputs": [
    {
     "name": "stdout",
     "output_type": "stream",
     "text": [
      "+-----+--------------------+----------+--------------------+\n",
      "|label|       rawPrediction|prediction|         probability|\n",
      "+-----+--------------------+----------+--------------------+\n",
      "|  0.0|[1.28793849755033...|       0.0|[0.92929283514093...|\n",
      "|  0.0|[1.28793849755033...|       0.0|[0.92929283514093...|\n",
      "|  0.0|[1.28793849755033...|       0.0|[0.92929283514093...|\n",
      "|  0.0|[1.28793849755033...|       0.0|[0.92929283514093...|\n",
      "|  0.0|[1.28793849755033...|       0.0|[0.92929283514093...|\n",
      "|  0.0|[1.28793849755033...|       0.0|[0.92929283514093...|\n",
      "|  0.0|[1.28793849755033...|       0.0|[0.92929283514093...|\n",
      "|  0.0|[1.28793849755033...|       0.0|[0.92929283514093...|\n",
      "|  0.0|[1.28793849755033...|       0.0|[0.92929283514093...|\n",
      "|  0.0|[1.28793849755033...|       0.0|[0.92929283514093...|\n",
      "+-----+--------------------+----------+--------------------+\n",
      "only showing top 10 rows\n",
      "\n"
     ]
    }
   ],
   "source": [
    "## 4.   Gradient-Boosted Tree Classifier ##\n",
    "\n",
    "GBT = GBTClassifier(featuresCol = 'features', labelCol = 'label',maxIter=10)\n",
    "gbtModel = GBT.fit(train)\n",
    "predictions_GBT = gbtModel.transform(test)\n",
    "predictions_GBT.select('label', 'rawPrediction', 'prediction', 'probability').show(10)"
   ]
  },
  {
   "cell_type": "markdown",
   "id": "9bb27368",
   "metadata": {},
   "source": [
    "Evaluation 4 models"
   ]
  },
  {
   "cell_type": "code",
   "execution_count": 51,
   "id": "10e02a6f",
   "metadata": {},
   "outputs": [
    {
     "name": "stdout",
     "output_type": "stream",
     "text": [
      "AUC: Logistic Regression   :  0.8747041397653503\n",
      "AUC: Decision Tree         :  0.16833932104550658\n",
      "AUC: Random Forest         :  0.8562425695963067\n",
      "AUC: Gradient-Boosted Tree :  0.86561762383283\n"
     ]
    }
   ],
   "source": [
    "evaluator = BinaryClassificationEvaluator()\n",
    "AUC_LR0 = evaluator.evaluate(predictions_LR)\n",
    "AUC_DT0 = evaluator.evaluate(predictions_DT)\n",
    "AUC_RF0 = evaluator.evaluate(predictions_RF)\n",
    "AUC_GBT0 = evaluator.evaluate(predictions_GBT)\n",
    "\n",
    "print('AUC of Logistic Regression   : ', AUC_LR0)\n",
    "print('AUC of Decision Tree         : ', AUC_DT0)\n",
    "print('AUC of Random Forest         : ', AUC_RF0)\n",
    "print('AUC of Gradient-Boosted Tree : ', AUC_GBT0)\n"
   ]
  },
  {
   "cell_type": "markdown",
   "id": "c7827fd2",
   "metadata": {},
   "source": [
    "## 02 - K-flod Cross Validation"
   ]
  },
  {
   "cell_type": "code",
   "execution_count": 46,
   "id": "309e9853",
   "metadata": {},
   "outputs": [
    {
     "data": {
      "text/plain": [
       "0.9643568405128655"
      ]
     },
     "execution_count": 46,
     "metadata": {},
     "output_type": "execute_result"
    }
   ],
   "source": [
    "## 1.  Logistic Regression Model ##\n",
    "\n",
    "LRparamGrid = ParamGridBuilder().addGrid(LR.maxIter, [0, 1]).build()\n",
    "cv_LR = CrossValidator(estimator=LR, estimatorParamMaps=LRparamGrid, evaluator=evaluator,\n",
    "    parallelism=2)#numFolds=3 by default\n",
    "cv_LRModel = cv_LR.fit(df_selected)\n",
    "AUC_LR = evaluator.evaluate(cv_LRModel.transform(df_selected))\n",
    "AUC_LR"
   ]
  },
  {
   "cell_type": "code",
   "execution_count": 47,
   "id": "a59eed5f",
   "metadata": {},
   "outputs": [
    {
     "data": {
      "text/plain": [
       "0.426128551837594"
      ]
     },
     "execution_count": 47,
     "metadata": {},
     "output_type": "execute_result"
    }
   ],
   "source": [
    "## 2.  Decision Tree Classifier ##\n",
    "\n",
    "DTparamGrid = (ParamGridBuilder()\n",
    "             .addGrid(DT.maxDepth, [2, 5, 10, 20, 30])\n",
    "             .addGrid(DT.maxBins, [10, 20, 40, 80, 100])\n",
    "             .build())\n",
    "cv_DT = CrossValidator(estimator=DT, estimatorParamMaps=DTparamGrid, evaluator=evaluator,\n",
    "    parallelism=2) #numFolds=3 by default\n",
    "cv_DTModel = cv_DT.fit(df_selected)\n",
    "AUC_DT = evaluator.evaluate(cv_DTModel.transform(df_selected))\n",
    "AUC_DT"
   ]
  },
  {
   "cell_type": "code",
   "execution_count": 50,
   "id": "17fd3429",
   "metadata": {},
   "outputs": [
    {
     "data": {
      "text/plain": [
       "0.9742577644665706"
      ]
     },
     "execution_count": 50,
     "metadata": {},
     "output_type": "execute_result"
    }
   ],
   "source": [
    "## 3.   Random Forest Classifier ##\n",
    "\n",
    "RFparamGrid = (ParamGridBuilder()\n",
    "             .addGrid(RF.maxDepth, [2, 5, 10])\n",
    "             .addGrid(RF.maxBins, [5, 10, 20])\n",
    "             .addGrid(RF.numTrees, [5, 20, 50])\n",
    "             .build())\n",
    "cv_RF = CrossValidator(estimator=RF, estimatorParamMaps=RFparamGrid, evaluator=evaluator,\n",
    "    parallelism=2) #numFolds=3 by default\n",
    "cv_RFModel = cv_RF.fit(df_selected)\n",
    "AUC_RF = evaluator.evaluate(cv_RFModel.transform(df_selected))\n",
    "AUC_RF"
   ]
  },
  {
   "cell_type": "code",
   "execution_count": 49,
   "id": "d89957c2",
   "metadata": {},
   "outputs": [
    {
     "data": {
      "text/plain": [
       "0.9598756662349962"
      ]
     },
     "execution_count": 49,
     "metadata": {},
     "output_type": "execute_result"
    }
   ],
   "source": [
    "## 4.   Gradient-Boosted Tree Classifier ##\n",
    "\n",
    "GBTparamGrid = (ParamGridBuilder()\n",
    "             .addGrid(GBT.maxDepth, [2, 5, 10])\n",
    "             .addGrid(GBT.maxBins, [10, 20, 40])\n",
    "             .addGrid(GBT.maxIter, [5, 10, 20])\n",
    "             .build())\n",
    "cv_GBT = CrossValidator(estimator=GBT, estimatorParamMaps=GBTparamGrid, evaluator=evaluator,\n",
    "    parallelism=2) #numFolds=3 by default\n",
    "cv_GBTModel = cv_GBT.fit(df_selected)\n",
    "AUC_GBT = evaluator.evaluate(cv_GBTModel.transform(df_selected))\n",
    "AUC_GBT"
   ]
  },
  {
   "cell_type": "markdown",
   "id": "0b5e442a",
   "metadata": {},
   "source": [
    "## 03 - Evaluation and Visualization"
   ]
  },
  {
   "cell_type": "code",
   "execution_count": 56,
   "id": "5e34e15d",
   "metadata": {},
   "outputs": [],
   "source": [
    "labels=['Liner Regression','Decision Tree','Random Forest','Gradient Boosting Tree']\n",
    "raw_performance=[AUC_LR0,AUC_DT0,AUC_RF0,AUC_GBT0]\n",
    "after_3fold=[AUC_LR,AUC_DT,AUC_RF,AUC_GBT]"
   ]
  },
  {
   "cell_type": "code",
   "execution_count": 57,
   "id": "b1271b8d",
   "metadata": {},
   "outputs": [
    {
     "data": {
      "image/png": "[encoded data removed]",
      "text/plain": [
       "<Figure size 432x288 with 1 Axes>"
      ]
     },
     "metadata": {
      "needs_background": "light"
     },
     "output_type": "display_data"
    }
   ],
   "source": [
    "x = np.arange(len(labels))\n",
    "# x=[float(i+1) for i in range(len(labels))]\n",
    "width = 0.35  # the width of the bars\n",
    "y = x + width\n",
    "\n",
    "fig, ax = plt.subplots()\n",
    "rects1 = ax.bar(x, raw_performance, width, label='raw_performance')\n",
    "rects2 = ax.bar(y, after_3fold, width, label='after_3fold')\n",
    "\n",
    "# Add some text for labels, title and custom x-axis tick labels, etc.\n",
    "ax.set_ylabel('AUC')\n",
    "ax.set_title('AUC of 4 Classifiers')\n",
    "# ax.set_xticks(x,labels)\n",
    "# x_ticks_label\n",
    "# ax.set_xticks(list(x), ax.x_ticks_label[::5])\n",
    "ax.set_xticks(x)\n",
    "ax.set_xticklabels(labels)\n",
    "ax.legend()\n",
    "\n",
    "ax.bar_label(rects1, padding=3)\n",
    "ax.bar_label(rects2, padding=3)\n",
    "\n",
    "fig.tight_layout()\n",
    "\n",
    "plt.show()"
   ]
  },
  {
   "cell_type": "code",
   "execution_count": null,
   "id": "66fde922",
   "metadata": {},
   "outputs": [],
   "source": []
  },
  {
   "cell_type": "code",
   "execution_count": null,
   "id": "23ca497e",
   "metadata": {},
   "outputs": [],
   "source": []
  },
  {
   "cell_type": "code",
   "execution_count": null,
   "id": "718bc620",
   "metadata": {},
   "outputs": [],
   "source": []
  },
  {
   "cell_type": "code",
   "execution_count": null,
   "id": "db0516e4",
   "metadata": {},
   "outputs": [],
   "source": []
  },
  {
   "cell_type": "code",
   "execution_count": null,
   "id": "dac7d50f",
   "metadata": {},
   "outputs": [],
   "source": []
  },
  {
   "cell_type": "code",
   "execution_count": null,
   "id": "5339ec88",
   "metadata": {},
   "outputs": [],
   "source": []
  },
  {
   "cell_type": "code",
   "execution_count": 33,
   "id": "c52449bd",
   "metadata": {
    "scrolled": true
   },
   "outputs": [
    {
     "data": {
      "text/plain": [
       "0.9643576742438813"
      ]
     },
     "execution_count": 33,
     "metadata": {},
     "output_type": "execute_result"
    }
   ],
   "source": [
    "# evaluator.evaluate(cv_LRModel.transform(df_selected))"
   ]
  },
  {
   "cell_type": "markdown",
   "id": "1b0a5b21",
   "metadata": {},
   "source": [
    "cross validation on Decision tree"
   ]
  },
  {
   "cell_type": "code",
   "execution_count": 36,
   "id": "26b51480",
   "metadata": {},
   "outputs": [
    {
     "data": {
      "text/plain": [
       "3"
      ]
     },
     "execution_count": 36,
     "metadata": {},
     "output_type": "execute_result"
    }
   ],
   "source": [
    "DTparamGrid = (ParamGridBuilder()\n",
    "             .addGrid(DT.maxDepth, [2, 5, 10, 20, 30])\n",
    "             .addGrid(DT.maxBins, [10, 20, 40, 80, 100])\n",
    "             .build())\n",
    "cv_DT = CrossValidator(estimator=DT, estimatorParamMaps=DTparamGrid, evaluator=evaluator,\n",
    "    parallelism=2) #numFolds=3 by default\n",
    "cv_DTModel = cv_DT.fit(df_selected)\n",
    "eva_DT = evaluator.evaluate(cv_DTModel.transform(df_selected))\n",
    "eva_DT"
   ]
  },
  {
   "cell_type": "code",
   "execution_count": 37,
   "id": "6f287de0",
   "metadata": {},
   "outputs": [
    {
     "data": {
      "text/plain": [
       "0.9643558876774189"
      ]
     },
     "execution_count": 37,
     "metadata": {},
     "output_type": "execute_result"
    }
   ],
   "source": [
    "# evaluator.evaluate(cv_DTModel.transform(df_selected))"
   ]
  },
  {
   "cell_type": "code",
   "execution_count": 39,
   "id": "5d85dd61",
   "metadata": {},
   "outputs": [
    {
     "data": {
      "text/plain": [
       "0.5"
      ]
     },
     "execution_count": 39,
     "metadata": {},
     "output_type": "execute_result"
    }
   ],
   "source": [
    "# Random forest\n",
    "RFparamGrid = (ParamGridBuilder()\n",
    "             .addGrid(RF.maxDepth, [2, 5, 10])\n",
    "             .addGrid(RF.maxBins, [5, 10, 20])\n",
    "             .addGrid(RF.numTrees, [5, 20, 50])\n",
    "             .build())\n",
    "cv_RF = CrossValidator(estimator=RF, estimatorParamMaps=RFparamGrid, evaluator=evaluator,\n",
    "    parallelism=2) #numFolds=3 by default\n",
    "cv_RFModel = cv_RF.fit(df_selected)\n",
    "eva_RF = evaluator.evaluate(cv_DTModel.transform(df_selected))\n",
    "eva_RF"
   ]
  },
  {
   "cell_type": "code",
   "execution_count": 40,
   "id": "de3466a8",
   "metadata": {
    "scrolled": true
   },
   "outputs": [
    {
     "data": {
      "text/plain": [
       "0.964359385016615"
      ]
     },
     "execution_count": 40,
     "metadata": {},
     "output_type": "execute_result"
    }
   ],
   "source": [
    "# evaluator.evaluate(cv_DTModel.transform(df_selected))"
   ]
  },
  {
   "cell_type": "code",
   "execution_count": 41,
   "id": "de02e4fd",
   "metadata": {},
   "outputs": [
    {
     "ename": "NameError",
     "evalue": "name 'cv_GBTModel' is not defined",
     "output_type": "error",
     "traceback": [
      "\u001b[1;31m---------------------------------------------------------------------------\u001b[0m",
      "\u001b[1;31mNameError\u001b[0m                                 Traceback (most recent call last)",
      "\u001b[1;32m~\\AppData\\Local\\Temp/ipykernel_15420/2378767766.py\u001b[0m in \u001b[0;36m<module>\u001b[1;34m\u001b[0m\n\u001b[0;32m      8\u001b[0m     parallelism=2) #numFolds=3 by default\n\u001b[0;32m      9\u001b[0m \u001b[0mcv_CBTModel\u001b[0m \u001b[1;33m=\u001b[0m \u001b[0mcv\u001b[0m\u001b[1;33m.\u001b[0m\u001b[0mfit\u001b[0m\u001b[1;33m(\u001b[0m\u001b[0mdf_selected\u001b[0m\u001b[1;33m)\u001b[0m\u001b[1;33m\u001b[0m\u001b[1;33m\u001b[0m\u001b[0m\n\u001b[1;32m---> 10\u001b[1;33m \u001b[0mcv_GBTModel\u001b[0m\u001b[1;33m.\u001b[0m\u001b[0mavgMetrics\u001b[0m\u001b[1;33m[\u001b[0m\u001b[1;36m0\u001b[0m\u001b[1;33m]\u001b[0m\u001b[1;33m\u001b[0m\u001b[1;33m\u001b[0m\u001b[0m\n\u001b[0m",
      "\u001b[1;31mNameError\u001b[0m: name 'cv_GBTModel' is not defined"
     ]
    }
   ],
   "source": [
    "# GBT\n",
    "GBTparamGrid = (ParamGridBuilder()\n",
    "             .addGrid(GBT.maxDepth, [2, 5, 10])\n",
    "             .addGrid(GBT.maxBins, [10, 20, 40])\n",
    "             .addGrid(GBT.maxIter, [5, 10, 20])\n",
    "             .build())\n",
    "cv_GBT = CrossValidator(estimator=GBT, estimatorParamMaps=GBTparamGrid, evaluator=evaluator,\n",
    "    parallelism=2) #numFolds=3 by default\n",
    "cv_GBTModel = cv_GBT.fit(df_selected)\n",
    "eva_GBT = evaluator.evaluate(cv_GBTModel.transform(df_selected))\n",
    "eva_GBT"
   ]
  },
  {
   "cell_type": "code",
   "execution_count": 42,
   "id": "1805677d",
   "metadata": {},
   "outputs": [
    {
     "data": {
      "text/plain": [
       "0.5"
      ]
     },
     "execution_count": 42,
     "metadata": {},
     "output_type": "execute_result"
    }
   ],
   "source": [
    "# cv_GBTModel = cv.fit(df_selected)\n",
    "# cv_GBTModel.avgMetrics[0]"
   ]
  },
  {
   "cell_type": "code",
   "execution_count": 43,
   "id": "b69d89ca",
   "metadata": {},
   "outputs": [
    {
     "data": {
      "text/plain": [
       "0.9643588761158651"
      ]
     },
     "execution_count": 43,
     "metadata": {},
     "output_type": "execute_result"
    }
   ],
   "source": [
    "# evaluator.evaluate(cv_GBTModel.transform(df_selected))"
   ]
  },
  {
   "cell_type": "code",
   "execution_count": 44,
   "id": "e30db4b4",
   "metadata": {},
   "outputs": [
    {
     "data": {
      "text/plain": [
       "pyspark.ml.tuning.CrossValidatorModel"
      ]
     },
     "execution_count": 44,
     "metadata": {},
     "output_type": "execute_result"
    }
   ],
   "source": [
    "type(cv_GBTModel)"
   ]
  },
  {
   "cell_type": "code",
   "execution_count": 45,
   "id": "627a19de",
   "metadata": {},
   "outputs": [
    {
     "data": {
      "text/plain": [
       "[0.5, 0.9449876618096822]"
      ]
     },
     "execution_count": 45,
     "metadata": {},
     "output_type": "execute_result"
    }
   ],
   "source": [
    "cv_GBTModel.avgMetrics"
   ]
  },
  {
   "cell_type": "code",
   "execution_count": null,
   "id": "98f819cd",
   "metadata": {},
   "outputs": [],
   "source": [
    "LRparamGrid = ParamGridBuilder().addGrid(LR.maxIter, [0, 1]).build()\n",
    "cv_LR = CrossValidator(estimator=LR, estimatorParamMaps=LRparamGrid, evaluator=evaluator,\n",
    "    parallelism=1)#numFolds=3 by default\n",
    "cv_LRModel2 = cv_LR.fit(df_selected)\n",
    "cv_LRModel2.avgMetrics[0]"
   ]
  },
  {
   "cell_type": "code",
   "execution_count": null,
   "id": "02e6ae9f",
   "metadata": {},
   "outputs": [],
   "source": []
  },
  {
   "cell_type": "code",
   "execution_count": null,
   "id": "758ddaf7",
   "metadata": {},
   "outputs": [],
   "source": []
  },
  {
   "cell_type": "code",
   "execution_count": null,
   "id": "3690f79b",
   "metadata": {},
   "outputs": [],
   "source": []
  },
  {
   "cell_type": "code",
   "execution_count": 59,
   "id": "f0640864",
   "metadata": {},
   "outputs": [
    {
     "name": "stdout",
     "output_type": "stream",
     "text": [
      "+-----+--------------------+----------+--------------------+\n",
      "|label|       rawPrediction|prediction|         probability|\n",
      "+-----+--------------------+----------+--------------------+\n",
      "|  0.0|[1.28793849755033...|       0.0|[0.92929283514093...|\n",
      "|  0.0|[1.28793849755033...|       0.0|[0.92929283514093...|\n",
      "|  0.0|[1.28793849755033...|       0.0|[0.92929283514093...|\n",
      "|  0.0|[1.28793849755033...|       0.0|[0.92929283514093...|\n",
      "|  0.0|[1.28793849755033...|       0.0|[0.92929283514093...|\n",
      "|  0.0|[1.28793849755033...|       0.0|[0.92929283514093...|\n",
      "|  0.0|[1.28793849755033...|       0.0|[0.92929283514093...|\n",
      "|  0.0|[1.28793849755033...|       0.0|[0.92929283514093...|\n",
      "|  0.0|[1.28793849755033...|       0.0|[0.92929283514093...|\n",
      "|  0.0|[1.28793849755033...|       0.0|[0.92929283514093...|\n",
      "+-----+--------------------+----------+--------------------+\n",
      "only showing top 10 rows\n",
      "\n"
     ]
    }
   ],
   "source": [
    "from pyspark.ml.classification import MultilayerPerceptronClassifier\n",
    "MPC = MultilayerPerceptronClassifier(featuresCol = 'features', labelCol = 'label',maxIter=10)\n",
    "mpcModel = MPC.fit(train)\n",
    "predictions_MPC = mpcModel.transform(test)\n",
    "predictions_MPC.select('label', 'rawPrediction', 'prediction', 'probability').show(10)"
   ]
  },
  {
   "cell_type": "code",
   "execution_count": 60,
   "id": "83f93617",
   "metadata": {},
   "outputs": [
    {
     "ename": "Py4JJavaError",
     "evalue": "An error occurred while calling o87034.fit.\n: java.util.NoSuchElementException: Failed to find a default value for layers\r\n\tat org.apache.spark.ml.param.Params.$anonfun$getOrDefault$2(params.scala:756)\r\n\tat scala.Option.getOrElse(Option.scala:189)\r\n\tat org.apache.spark.ml.param.Params.getOrDefault(params.scala:756)\r\n\tat org.apache.spark.ml.param.Params.getOrDefault$(params.scala:753)\r\n\tat org.apache.spark.ml.PipelineStage.getOrDefault(Pipeline.scala:41)\r\n\tat org.apache.spark.ml.param.Params.$(params.scala:762)\r\n\tat org.apache.spark.ml.param.Params.$$(params.scala:762)\r\n\tat org.apache.spark.ml.PipelineStage.$(Pipeline.scala:41)\r\n\tat org.apache.spark.ml.classification.MultilayerPerceptronClassifier.$anonfun$train$1(MultilayerPerceptronClassifier.scala:190)\r\n\tat org.apache.spark.ml.util.Instrumentation$.$anonfun$instrumented$1(Instrumentation.scala:191)\r\n\tat scala.util.Try$.apply(Try.scala:213)\r\n\tat org.apache.spark.ml.util.Instrumentation$.instrumented(Instrumentation.scala:191)\r\n\tat org.apache.spark.ml.classification.MultilayerPerceptronClassifier.train(MultilayerPerceptronClassifier.scala:184)\r\n\tat org.apache.spark.ml.classification.MultilayerPerceptronClassifier.train(MultilayerPerceptronClassifier.scala:93)\r\n\tat org.apache.spark.ml.Predictor.fit(Predictor.scala:151)\r\n\tat sun.reflect.NativeMethodAccessorImpl.invoke0(Native Method)\r\n\tat sun.reflect.NativeMethodAccessorImpl.invoke(NativeMethodAccessorImpl.java:62)\r\n\tat sun.reflect.DelegatingMethodAccessorImpl.invoke(DelegatingMethodAccessorImpl.java:43)\r\n\tat java.lang.reflect.Method.invoke(Method.java:498)\r\n\tat py4j.reflection.MethodInvoker.invoke(MethodInvoker.java:244)\r\n\tat py4j.reflection.ReflectionEngine.invoke(ReflectionEngine.java:357)\r\n\tat py4j.Gateway.invoke(Gateway.java:282)\r\n\tat py4j.commands.AbstractCommand.invokeMethod(AbstractCommand.java:132)\r\n\tat py4j.commands.CallCommand.execute(CallCommand.java:79)\r\n\tat py4j.ClientServerConnection.waitForCommands(ClientServerConnection.java:182)\r\n\tat py4j.ClientServerConnection.run(ClientServerConnection.java:106)\r\n\tat java.lang.Thread.run(Thread.java:748)\r\n",
     "output_type": "error",
     "traceback": [
      "\u001b[1;31m---------------------------------------------------------------------------\u001b[0m",
      "\u001b[1;31mPy4JJavaError\u001b[0m                             Traceback (most recent call last)",
      "\u001b[1;32m~\\AppData\\Local\\Temp/ipykernel_15420/3133460302.py\u001b[0m in \u001b[0;36m<module>\u001b[1;34m\u001b[0m\n\u001b[1;32m----> 1\u001b[1;33m \u001b[0mmpcModel\u001b[0m \u001b[1;33m=\u001b[0m \u001b[0mMPC\u001b[0m\u001b[1;33m.\u001b[0m\u001b[0mfit\u001b[0m\u001b[1;33m(\u001b[0m\u001b[0mtrain\u001b[0m\u001b[1;33m)\u001b[0m\u001b[1;33m\u001b[0m\u001b[1;33m\u001b[0m\u001b[0m\n\u001b[0m\u001b[0;32m      2\u001b[0m \u001b[0mpredictions_MPC\u001b[0m \u001b[1;33m=\u001b[0m \u001b[0mmpcModel\u001b[0m\u001b[1;33m.\u001b[0m\u001b[0mtransform\u001b[0m\u001b[1;33m(\u001b[0m\u001b[0mtest\u001b[0m\u001b[1;33m)\u001b[0m\u001b[1;33m\u001b[0m\u001b[1;33m\u001b[0m\u001b[0m\n\u001b[0;32m      3\u001b[0m \u001b[0mpredictions_MPC\u001b[0m\u001b[1;33m.\u001b[0m\u001b[0mselect\u001b[0m\u001b[1;33m(\u001b[0m\u001b[1;34m'label'\u001b[0m\u001b[1;33m,\u001b[0m \u001b[1;34m'rawPrediction'\u001b[0m\u001b[1;33m,\u001b[0m \u001b[1;34m'prediction'\u001b[0m\u001b[1;33m,\u001b[0m \u001b[1;34m'probability'\u001b[0m\u001b[1;33m)\u001b[0m\u001b[1;33m.\u001b[0m\u001b[0mshow\u001b[0m\u001b[1;33m(\u001b[0m\u001b[1;36m10\u001b[0m\u001b[1;33m)\u001b[0m\u001b[1;33m\u001b[0m\u001b[1;33m\u001b[0m\u001b[0m\n",
      "\u001b[1;32mD:\\Users\\Cryst\\AppData\\Local\\Programs\\Python\\Python39\\lib\\site-packages\\pyspark\\ml\\base.py\u001b[0m in \u001b[0;36mfit\u001b[1;34m(self, dataset, params)\u001b[0m\n\u001b[0;32m    159\u001b[0m                 \u001b[1;32mreturn\u001b[0m \u001b[0mself\u001b[0m\u001b[1;33m.\u001b[0m\u001b[0mcopy\u001b[0m\u001b[1;33m(\u001b[0m\u001b[0mparams\u001b[0m\u001b[1;33m)\u001b[0m\u001b[1;33m.\u001b[0m\u001b[0m_fit\u001b[0m\u001b[1;33m(\u001b[0m\u001b[0mdataset\u001b[0m\u001b[1;33m)\u001b[0m\u001b[1;33m\u001b[0m\u001b[1;33m\u001b[0m\u001b[0m\n\u001b[0;32m    160\u001b[0m             \u001b[1;32melse\u001b[0m\u001b[1;33m:\u001b[0m\u001b[1;33m\u001b[0m\u001b[1;33m\u001b[0m\u001b[0m\n\u001b[1;32m--> 161\u001b[1;33m                 \u001b[1;32mreturn\u001b[0m \u001b[0mself\u001b[0m\u001b[1;33m.\u001b[0m\u001b[0m_fit\u001b[0m\u001b[1;33m(\u001b[0m\u001b[0mdataset\u001b[0m\u001b[1;33m)\u001b[0m\u001b[1;33m\u001b[0m\u001b[1;33m\u001b[0m\u001b[0m\n\u001b[0m\u001b[0;32m    162\u001b[0m         \u001b[1;32melse\u001b[0m\u001b[1;33m:\u001b[0m\u001b[1;33m\u001b[0m\u001b[1;33m\u001b[0m\u001b[0m\n\u001b[0;32m    163\u001b[0m             raise TypeError(\"Params must be either a param map or a list/tuple of param maps, \"\n",
      "\u001b[1;32mD:\\Users\\Cryst\\AppData\\Local\\Programs\\Python\\Python39\\lib\\site-packages\\pyspark\\ml\\wrapper.py\u001b[0m in \u001b[0;36m_fit\u001b[1;34m(self, dataset)\u001b[0m\n\u001b[0;32m    333\u001b[0m \u001b[1;33m\u001b[0m\u001b[0m\n\u001b[0;32m    334\u001b[0m     \u001b[1;32mdef\u001b[0m \u001b[0m_fit\u001b[0m\u001b[1;33m(\u001b[0m\u001b[0mself\u001b[0m\u001b[1;33m,\u001b[0m \u001b[0mdataset\u001b[0m\u001b[1;33m)\u001b[0m\u001b[1;33m:\u001b[0m\u001b[1;33m\u001b[0m\u001b[1;33m\u001b[0m\u001b[0m\n\u001b[1;32m--> 335\u001b[1;33m         \u001b[0mjava_model\u001b[0m \u001b[1;33m=\u001b[0m \u001b[0mself\u001b[0m\u001b[1;33m.\u001b[0m\u001b[0m_fit_java\u001b[0m\u001b[1;33m(\u001b[0m\u001b[0mdataset\u001b[0m\u001b[1;33m)\u001b[0m\u001b[1;33m\u001b[0m\u001b[1;33m\u001b[0m\u001b[0m\n\u001b[0m\u001b[0;32m    336\u001b[0m         \u001b[0mmodel\u001b[0m \u001b[1;33m=\u001b[0m \u001b[0mself\u001b[0m\u001b[1;33m.\u001b[0m\u001b[0m_create_model\u001b[0m\u001b[1;33m(\u001b[0m\u001b[0mjava_model\u001b[0m\u001b[1;33m)\u001b[0m\u001b[1;33m\u001b[0m\u001b[1;33m\u001b[0m\u001b[0m\n\u001b[0;32m    337\u001b[0m         \u001b[1;32mreturn\u001b[0m \u001b[0mself\u001b[0m\u001b[1;33m.\u001b[0m\u001b[0m_copyValues\u001b[0m\u001b[1;33m(\u001b[0m\u001b[0mmodel\u001b[0m\u001b[1;33m)\u001b[0m\u001b[1;33m\u001b[0m\u001b[1;33m\u001b[0m\u001b[0m\n",
      "\u001b[1;32mD:\\Users\\Cryst\\AppData\\Local\\Programs\\Python\\Python39\\lib\\site-packages\\pyspark\\ml\\wrapper.py\u001b[0m in \u001b[0;36m_fit_java\u001b[1;34m(self, dataset)\u001b[0m\n\u001b[0;32m    330\u001b[0m         \"\"\"\n\u001b[0;32m    331\u001b[0m         \u001b[0mself\u001b[0m\u001b[1;33m.\u001b[0m\u001b[0m_transfer_params_to_java\u001b[0m\u001b[1;33m(\u001b[0m\u001b[1;33m)\u001b[0m\u001b[1;33m\u001b[0m\u001b[1;33m\u001b[0m\u001b[0m\n\u001b[1;32m--> 332\u001b[1;33m         \u001b[1;32mreturn\u001b[0m \u001b[0mself\u001b[0m\u001b[1;33m.\u001b[0m\u001b[0m_java_obj\u001b[0m\u001b[1;33m.\u001b[0m\u001b[0mfit\u001b[0m\u001b[1;33m(\u001b[0m\u001b[0mdataset\u001b[0m\u001b[1;33m.\u001b[0m\u001b[0m_jdf\u001b[0m\u001b[1;33m)\u001b[0m\u001b[1;33m\u001b[0m\u001b[1;33m\u001b[0m\u001b[0m\n\u001b[0m\u001b[0;32m    333\u001b[0m \u001b[1;33m\u001b[0m\u001b[0m\n\u001b[0;32m    334\u001b[0m     \u001b[1;32mdef\u001b[0m \u001b[0m_fit\u001b[0m\u001b[1;33m(\u001b[0m\u001b[0mself\u001b[0m\u001b[1;33m,\u001b[0m \u001b[0mdataset\u001b[0m\u001b[1;33m)\u001b[0m\u001b[1;33m:\u001b[0m\u001b[1;33m\u001b[0m\u001b[1;33m\u001b[0m\u001b[0m\n",
      "\u001b[1;32mD:\\Users\\Cryst\\AppData\\Local\\Programs\\Python\\Python39\\lib\\site-packages\\py4j\\java_gateway.py\u001b[0m in \u001b[0;36m__call__\u001b[1;34m(self, *args)\u001b[0m\n\u001b[0;32m   1307\u001b[0m \u001b[1;33m\u001b[0m\u001b[0m\n\u001b[0;32m   1308\u001b[0m         \u001b[0manswer\u001b[0m \u001b[1;33m=\u001b[0m \u001b[0mself\u001b[0m\u001b[1;33m.\u001b[0m\u001b[0mgateway_client\u001b[0m\u001b[1;33m.\u001b[0m\u001b[0msend_command\u001b[0m\u001b[1;33m(\u001b[0m\u001b[0mcommand\u001b[0m\u001b[1;33m)\u001b[0m\u001b[1;33m\u001b[0m\u001b[1;33m\u001b[0m\u001b[0m\n\u001b[1;32m-> 1309\u001b[1;33m         return_value = get_return_value(\n\u001b[0m\u001b[0;32m   1310\u001b[0m             answer, self.gateway_client, self.target_id, self.name)\n\u001b[0;32m   1311\u001b[0m \u001b[1;33m\u001b[0m\u001b[0m\n",
      "\u001b[1;32mD:\\Users\\Cryst\\AppData\\Local\\Programs\\Python\\Python39\\lib\\site-packages\\pyspark\\sql\\utils.py\u001b[0m in \u001b[0;36mdeco\u001b[1;34m(*a, **kw)\u001b[0m\n\u001b[0;32m    109\u001b[0m     \u001b[1;32mdef\u001b[0m \u001b[0mdeco\u001b[0m\u001b[1;33m(\u001b[0m\u001b[1;33m*\u001b[0m\u001b[0ma\u001b[0m\u001b[1;33m,\u001b[0m \u001b[1;33m**\u001b[0m\u001b[0mkw\u001b[0m\u001b[1;33m)\u001b[0m\u001b[1;33m:\u001b[0m\u001b[1;33m\u001b[0m\u001b[1;33m\u001b[0m\u001b[0m\n\u001b[0;32m    110\u001b[0m         \u001b[1;32mtry\u001b[0m\u001b[1;33m:\u001b[0m\u001b[1;33m\u001b[0m\u001b[1;33m\u001b[0m\u001b[0m\n\u001b[1;32m--> 111\u001b[1;33m             \u001b[1;32mreturn\u001b[0m \u001b[0mf\u001b[0m\u001b[1;33m(\u001b[0m\u001b[1;33m*\u001b[0m\u001b[0ma\u001b[0m\u001b[1;33m,\u001b[0m \u001b[1;33m**\u001b[0m\u001b[0mkw\u001b[0m\u001b[1;33m)\u001b[0m\u001b[1;33m\u001b[0m\u001b[1;33m\u001b[0m\u001b[0m\n\u001b[0m\u001b[0;32m    112\u001b[0m         \u001b[1;32mexcept\u001b[0m \u001b[0mpy4j\u001b[0m\u001b[1;33m.\u001b[0m\u001b[0mprotocol\u001b[0m\u001b[1;33m.\u001b[0m\u001b[0mPy4JJavaError\u001b[0m \u001b[1;32mas\u001b[0m \u001b[0me\u001b[0m\u001b[1;33m:\u001b[0m\u001b[1;33m\u001b[0m\u001b[1;33m\u001b[0m\u001b[0m\n\u001b[0;32m    113\u001b[0m             \u001b[0mconverted\u001b[0m \u001b[1;33m=\u001b[0m \u001b[0mconvert_exception\u001b[0m\u001b[1;33m(\u001b[0m\u001b[0me\u001b[0m\u001b[1;33m.\u001b[0m\u001b[0mjava_exception\u001b[0m\u001b[1;33m)\u001b[0m\u001b[1;33m\u001b[0m\u001b[1;33m\u001b[0m\u001b[0m\n",
      "\u001b[1;32mD:\\Users\\Cryst\\AppData\\Local\\Programs\\Python\\Python39\\lib\\site-packages\\py4j\\protocol.py\u001b[0m in \u001b[0;36mget_return_value\u001b[1;34m(answer, gateway_client, target_id, name)\u001b[0m\n\u001b[0;32m    324\u001b[0m             \u001b[0mvalue\u001b[0m \u001b[1;33m=\u001b[0m \u001b[0mOUTPUT_CONVERTER\u001b[0m\u001b[1;33m[\u001b[0m\u001b[0mtype\u001b[0m\u001b[1;33m]\u001b[0m\u001b[1;33m(\u001b[0m\u001b[0manswer\u001b[0m\u001b[1;33m[\u001b[0m\u001b[1;36m2\u001b[0m\u001b[1;33m:\u001b[0m\u001b[1;33m]\u001b[0m\u001b[1;33m,\u001b[0m \u001b[0mgateway_client\u001b[0m\u001b[1;33m)\u001b[0m\u001b[1;33m\u001b[0m\u001b[1;33m\u001b[0m\u001b[0m\n\u001b[0;32m    325\u001b[0m             \u001b[1;32mif\u001b[0m \u001b[0manswer\u001b[0m\u001b[1;33m[\u001b[0m\u001b[1;36m1\u001b[0m\u001b[1;33m]\u001b[0m \u001b[1;33m==\u001b[0m \u001b[0mREFERENCE_TYPE\u001b[0m\u001b[1;33m:\u001b[0m\u001b[1;33m\u001b[0m\u001b[1;33m\u001b[0m\u001b[0m\n\u001b[1;32m--> 326\u001b[1;33m                 raise Py4JJavaError(\n\u001b[0m\u001b[0;32m    327\u001b[0m                     \u001b[1;34m\"An error occurred while calling {0}{1}{2}.\\n\"\u001b[0m\u001b[1;33m.\u001b[0m\u001b[1;33m\u001b[0m\u001b[1;33m\u001b[0m\u001b[0m\n\u001b[0;32m    328\u001b[0m                     format(target_id, \".\", name), value)\n",
      "\u001b[1;31mPy4JJavaError\u001b[0m: An error occurred while calling o87034.fit.\n: java.util.NoSuchElementException: Failed to find a default value for layers\r\n\tat org.apache.spark.ml.param.Params.$anonfun$getOrDefault$2(params.scala:756)\r\n\tat scala.Option.getOrElse(Option.scala:189)\r\n\tat org.apache.spark.ml.param.Params.getOrDefault(params.scala:756)\r\n\tat org.apache.spark.ml.param.Params.getOrDefault$(params.scala:753)\r\n\tat org.apache.spark.ml.PipelineStage.getOrDefault(Pipeline.scala:41)\r\n\tat org.apache.spark.ml.param.Params.$(params.scala:762)\r\n\tat org.apache.spark.ml.param.Params.$$(params.scala:762)\r\n\tat org.apache.spark.ml.PipelineStage.$(Pipeline.scala:41)\r\n\tat org.apache.spark.ml.classification.MultilayerPerceptronClassifier.$anonfun$train$1(MultilayerPerceptronClassifier.scala:190)\r\n\tat org.apache.spark.ml.util.Instrumentation$.$anonfun$instrumented$1(Instrumentation.scala:191)\r\n\tat scala.util.Try$.apply(Try.scala:213)\r\n\tat org.apache.spark.ml.util.Instrumentation$.instrumented(Instrumentation.scala:191)\r\n\tat org.apache.spark.ml.classification.MultilayerPerceptronClassifier.train(MultilayerPerceptronClassifier.scala:184)\r\n\tat org.apache.spark.ml.classification.MultilayerPerceptronClassifier.train(MultilayerPerceptronClassifier.scala:93)\r\n\tat org.apache.spark.ml.Predictor.fit(Predictor.scala:151)\r\n\tat sun.reflect.NativeMethodAccessorImpl.invoke0(Native Method)\r\n\tat sun.reflect.NativeMethodAccessorImpl.invoke(NativeMethodAccessorImpl.java:62)\r\n\tat sun.reflect.DelegatingMethodAccessorImpl.invoke(DelegatingMethodAccessorImpl.java:43)\r\n\tat java.lang.reflect.Method.invoke(Method.java:498)\r\n\tat py4j.reflection.MethodInvoker.invoke(MethodInvoker.java:244)\r\n\tat py4j.reflection.ReflectionEngine.invoke(ReflectionEngine.java:357)\r\n\tat py4j.Gateway.invoke(Gateway.java:282)\r\n\tat py4j.commands.AbstractCommand.invokeMethod(AbstractCommand.java:132)\r\n\tat py4j.commands.CallCommand.execute(CallCommand.java:79)\r\n\tat py4j.ClientServerConnection.waitForCommands(ClientServerConnection.java:182)\r\n\tat py4j.ClientServerConnection.run(ClientServerConnection.java:106)\r\n\tat java.lang.Thread.run(Thread.java:748)\r\n"
     ]
    }
   ],
   "source": [
    "mpcModel = MPC.fit(train)\n",
    "predictions_MPC = mpcModel.transform(test)\n",
    "predictions_MPC.select('label', 'rawPrediction', 'prediction', 'probability').show(10)"
   ]
  },
  {
   "cell_type": "code",
   "execution_count": null,
   "id": "930564be",
   "metadata": {},
   "outputs": [],
   "source": []
  },
  {
   "cell_type": "code",
   "execution_count": null,
   "id": "c0cb1bd1",
   "metadata": {},
   "outputs": [],
   "source": [
    "\n",
    "from pyspark.ml.classification import GBTClassifier\n",
    "GBT = GBTClassifier(featuresCol = 'features', labelCol = 'label',maxIter=10)\n",
    "gbtModel = GBT.fit(train)\n",
    "predictions_GBT = gbtModel.transform(test)\n",
    "predictions_GBT.select('label', 'rawPrediction', 'prediction', 'probability').show(10)"
   ]
  },
  {
   "cell_type": "code",
   "execution_count": null,
   "id": "68fceb2b",
   "metadata": {},
   "outputs": [],
   "source": []
  },
  {
   "cell_type": "code",
   "execution_count": null,
   "id": "c916bbe6",
   "metadata": {},
   "outputs": [],
   "source": []
  },
  {
   "cell_type": "code",
   "execution_count": null,
   "id": "83829cc7",
   "metadata": {},
   "outputs": [],
   "source": []
  },
  {
   "cell_type": "code",
   "execution_count": null,
   "id": "7fd8c943",
   "metadata": {},
   "outputs": [],
   "source": []
  },
  {
   "cell_type": "code",
   "execution_count": null,
   "id": "b9000462",
   "metadata": {},
   "outputs": [],
   "source": []
  },
  {
   "cell_type": "code",
   "execution_count": null,
   "id": "9179f29d",
   "metadata": {},
   "outputs": [],
   "source": []
  },
  {
   "cell_type": "code",
   "execution_count": null,
   "id": "f7e0c0b1",
   "metadata": {},
   "outputs": [],
   "source": []
  },
  {
   "cell_type": "code",
   "execution_count": null,
   "id": "f0b6b8e9",
   "metadata": {},
   "outputs": [],
   "source": []
  },
  {
   "cell_type": "code",
   "execution_count": null,
   "id": "ccadc916",
   "metadata": {},
   "outputs": [],
   "source": []
  },
  {
   "cell_type": "code",
   "execution_count": null,
   "id": "dac6ce13",
   "metadata": {},
   "outputs": [],
   "source": []
  },
  {
   "cell_type": "code",
   "execution_count": null,
   "id": "f592f968",
   "metadata": {},
   "outputs": [],
   "source": []
  },
  {
   "cell_type": "code",
   "execution_count": null,
   "id": "74435db5",
   "metadata": {},
   "outputs": [],
   "source": []
  },
  {
   "cell_type": "code",
   "execution_count": null,
   "id": "d0b6e908",
   "metadata": {},
   "outputs": [],
   "source": [
    "from sparkflow.graph_utils import build_graph\n",
    "from sparkflow.tensorflow_async import SparkAsyncDL\n",
    "from pyspark.ml.feature import VectorAssembler, OneHotEncoder\n",
    "from pyspark.ml.pipeline import Pipeline\n",
    "from pyspark.sql import SparkSession"
   ]
  },
  {
   "cell_type": "code",
   "execution_count": null,
   "id": "60a8f85b",
   "metadata": {},
   "outputs": [],
   "source": [
    "# import tensorflow as tf\n",
    "from tensorflow import keras\n",
    "from tensorflow.keras.models import Sequential\n",
    "from tensorflow.keras.models import load_model\n",
    "from tensorflow.keras.layers import Dense, Dropout, Activation\n",
    "from tensorflow.keras import layers,losses,optimizers,regularizers\n",
    "from sklearn.metrics import classification_report\n",
    "from sklearn.metrics import confusion_matrix\n",
    "from sklearn.model_selection import train_test_split\n",
    "# import tensorflow.compat.v1 as tf\n",
    "# tf.disable_v2_behavior()"
   ]
  },
  {
   "cell_type": "code",
   "execution_count": null,
   "id": "dc5d3e92",
   "metadata": {},
   "outputs": [],
   "source": [
    "import tensorflow.compat.v1 as tf\n",
    "from tensorflow.compat.v1 import keras\n",
    "from tensorflow.compat.v1.keras.models import Sequential\n",
    "from tensorflow.compat.v1.keras.models import load_model\n",
    "from tensorflow.compat.v1.keras.layers import Dense, Dropout, Activation\n",
    "from tensorflow.compat.v1.keras import losses,optimizers,regularizers\n",
    "from sklearn.metrics import classification_report\n",
    "from sklearn.metrics import confusion_matrix\n",
    "from sklearn.model_selection import train_test_split\n",
    "# import tensorflow.compat.v1 as tf\n",
    "tf.disable_v2_behavior()"
   ]
  },
  {
   "cell_type": "code",
   "execution_count": null,
   "id": "b79bb6c0",
   "metadata": {},
   "outputs": [],
   "source": [
    "def small_model():\n",
    "    model = keras.Sequential()\n",
    "    model.add(layers.Dense(output_dim, kernel_initializer='uniform', input_shape=(10,)))\n",
    "    model.add(layers.Activation('softmax'))\n",
    "    loss_fn = keras.losses.SparseCategoricalCrossentropy()\n",
    "    model.compile(loss=loss_fn, optimizer='adam')\n",
    "    return model\n",
    "#     loss = model.loss.fn(y_true, model.output)\n",
    "#     y_true = tf.compat.v1.placeholder(dtype=tf.float32, shape=(None, output_dim))"
   ]
  },
  {
   "cell_type": "code",
   "execution_count": null,
   "id": "6c313e46",
   "metadata": {},
   "outputs": [],
   "source": [
    "# def small_model():\n",
    "#     x = tf.placeholder(tf.float32, shape=[None, 784], name='x')\n",
    "#     y = tf.placeholder(tf.float32, shape=[None, 10], name='y')\n",
    "#     layer1 = tf.layers.dense(x, 256, activation=tf.nn.relu)\n",
    "#     layer2 = tf.layers.dense(layer1, 256, activation=tf.nn.relu)\n",
    "#     out = tf.layers.dense(layer2, 10)\n",
    "#     z = tf.argmax(out, 1, name='out')\n",
    "#     loss = tf.losses.softmax_cross_entropy(y, out)\n",
    "#     return loss"
   ]
  },
  {
   "cell_type": "code",
   "execution_count": null,
   "id": "526e93aa",
   "metadata": {},
   "outputs": [],
   "source": [
    "# nb_classes = train.select('label').distinct().count()\n",
    "# input_dim = len(train.select('features').first()[0])\n",
    "input_dim=24\n",
    "output_dim=2"
   ]
  },
  {
   "cell_type": "code",
   "execution_count": null,
   "id": "a9364429",
   "metadata": {},
   "outputs": [],
   "source": [
    "# def small_model():\n",
    "#     model = Sequential()\n",
    "#     model.add(Dense(256,input_shape=(input_dim,),activity_regularizer=regularizers.l2(0.01)))\n",
    "#     model.add(Activation('relu'))\n",
    "#     model.add(Dropout(rate=0.3))\n",
    "#     model.add(Dense(256,activity_regularizer=regularizers.l2(0.01)))\n",
    "#     model.add(Activation('relu'))\n",
    "#     model.add(Dropout(rate=0.3))\n",
    "#     model.add(Dense(nb_classes))\n",
    "#     model.add(Activation('sigmoid'))\n",
    "#     model.compile(loss='binart_crossentropy',optimizer='adam')\n",
    "#     return model"
   ]
  },
  {
   "cell_type": "code",
   "execution_count": null,
   "id": "46cd8cf3",
   "metadata": {},
   "outputs": [],
   "source": [
    "y_true=test.select('label')\n",
    "y_true_df = y_true.toPandas()"
   ]
  },
  {
   "cell_type": "code",
   "execution_count": null,
   "id": "71bdb2c4",
   "metadata": {
    "scrolled": false
   },
   "outputs": [],
   "source": [
    "model=small_model()\n",
    "loss = model.loss.fn(y_true_df, model.output)\n",
    "mg = build_graph(lambda:loss)"
   ]
  },
  {
   "cell_type": "code",
   "execution_count": null,
   "id": "26cb463d",
   "metadata": {
    "scrolled": true
   },
   "outputs": [],
   "source": [
    "tf.train.export_meta_graph()"
   ]
  },
  {
   "cell_type": "code",
   "execution_count": null,
   "id": "84dc300b",
   "metadata": {},
   "outputs": [],
   "source": [
    "y_true_df = y_true.toPandas()"
   ]
  },
  {
   "cell_type": "code",
   "execution_count": null,
   "id": "6610a034",
   "metadata": {},
   "outputs": [],
   "source": [
    "y_true_df"
   ]
  },
  {
   "cell_type": "code",
   "execution_count": null,
   "id": "445ad361",
   "metadata": {},
   "outputs": [],
   "source": [
    "tf.constant(df)"
   ]
  },
  {
   "cell_type": "code",
   "execution_count": null,
   "id": "af47291a",
   "metadata": {},
   "outputs": [],
   "source": []
  }
 ],
 "metadata": {
  "kernelspec": {
   "display_name": "Python 3 (ipykernel)",
   "language": "python",
   "name": "python3"
  },
  "language_info": {
   "codemirror_mode": {
    "name": "ipython",
    "version": 3
   },
   "file_extension": ".py",
   "mimetype": "text/x-python",
   "name": "python",
   "nbconvert_exporter": "python",
   "pygments_lexer": "ipython3",
   "version": "3.9.7"
  }
 },
 "nbformat": 4,
 "nbformat_minor": 5
}
