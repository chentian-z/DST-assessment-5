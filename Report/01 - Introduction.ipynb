{
 "cells": [
  {
   "cell_type": "markdown",
   "id": "4bac60cd-cad0-43cd-a91b-c3e9e4e215f8",
   "metadata": {},
   "source": [
    "# Introduction\n",
    "\n",
    "In this report, we aim to investigate potential speed-ups from parallelism when training and evaluating classification models. The specific classification problem we use for this investigation is that of classifying software into malware and goodware based on their API call sequences - that is, the first 100 non-repeated calls they make to the Windows API when they are run. This was chosen due to its relation to the problem which we will be tackling in our final project.\n",
    "\n",
    "We investigate both parallelised implementations (using PySpark) and non-paralellised implementations (using sklearn) of several different classification models. We compare their classification performance, but more importantly we compare the *computational* performance of the two implementations to determine whether we actually achieve a speed-up by using parallelism in this context. We hypothesise that we will see some benefit from using parallelisation, but that this may be tempered somewhat by the fact that our dataset is not that large (Spark is intended for use in a big data context).\n",
    "\n",
    "The dataset we used can be found here: https://ieee-dataport.org/open-access/malware-analysis-datasets-api-call-sequences. It is already located in the project's data folder, so there is no need to download it."
   ]
  },
  {
   "cell_type": "code",
   "execution_count": null,
   "id": "90b0d421-54c6-4106-b412-52f7601fcde3",
   "metadata": {},
   "outputs": [],
   "source": []
  }
 ],
 "metadata": {
  "kernelspec": {
   "display_name": "Python 3 (ipykernel)",
   "language": "python",
   "name": "python3"
  },
  "language_info": {
   "codemirror_mode": {
    "name": "ipython",
    "version": 3
   },
   "file_extension": ".py",
   "mimetype": "text/x-python",
   "name": "python",
   "nbconvert_exporter": "python",
   "pygments_lexer": "ipython3",
   "version": "3.9.12"
  }
 },
 "nbformat": 4,
 "nbformat_minor": 5
}
