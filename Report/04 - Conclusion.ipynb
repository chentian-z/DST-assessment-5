{
 "cells": [
  {
   "cell_type": "markdown",
   "id": "37739b41-3821-48cd-ad7f-d4ee31fa3132",
   "metadata": {},
   "source": [
    "# Conclusion\n",
    "\n",
    "Far from achieving the desired speed-up from use of parallelism, we found that our code using Spark ran orders of magnitude slower! We believe that this is because we underestimated the overhead incurred by Spark, so instead of the performance gains from parallelism being merely *reduced* by the fact that our dataset was relatively small, it was in fact totally obliterated.\n",
    "\n",
    "As for classification performance of the models, we found that the PySpark and sklearn implementations had quite similar performace for most models, with one or the other performing slightly better in each case. This was both expected and desired - dramatic differences in performance could have been indicative of some flaw in our use of one of the two packages (we did not expect to get *precisely* the same performance because the details of the implementation of the models are differnt in each case). However, there was one case in which we did observe a dramatic difference - the PySpark implementation of a decision tree performed vastly worse than the sklearn implementation did. So far as we can tell this is in fact due to implementation difference, just especially dramatic ones in this case. We also found that performance could be improved by using cross-validation to tune hyperparameters in each case.\n",
    "\n",
    "The actual performance of the models ranged from bad to mediocre, with even the best-performing models having an unacceptably high false positive rate. However, this is not really an issue for us - our goal was not actually to create a strong classifier here (if it had been, we would have investigated hyperparameter tuning much more thoroughly)."
   ]
  }
 ],
 "metadata": {
  "kernelspec": {
   "display_name": "Python 3 (ipykernel)",
   "language": "python",
   "name": "python3"
  },
  "language_info": {
   "codemirror_mode": {
    "name": "ipython",
    "version": 3
   },
   "file_extension": ".py",
   "mimetype": "text/x-python",
   "name": "python",
   "nbconvert_exporter": "python",
   "pygments_lexer": "ipython3",
   "version": "3.9.12"
  }
 },
 "nbformat": 4,
 "nbformat_minor": 5
}
